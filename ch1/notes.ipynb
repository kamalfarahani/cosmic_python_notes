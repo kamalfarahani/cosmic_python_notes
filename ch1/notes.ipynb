{
 "cells": [
  {
   "cell_type": "markdown",
   "id": "1f472690-0393-4d5e-b73f-3d0cf3792d39",
   "metadata": {},
   "source": [
    "# Domain Modeling\n",
    "\n",
    "This chapter looks into how we can model business processes with code, in a way that’s highly compatible with TDD. We’ll discuss why domain modeling matters, and we’ll look at a few key patterns for modeling domains: Entity, Value Object, and Domain Service."
   ]
  },
  {
   "cell_type": "markdown",
   "id": "6d9f9f5d-8af3-4c9e-9d82-17b8ffe85f7a",
   "metadata": {},
   "source": [
    "### Domin Model\n",
    "\n",
    "The text argues that \"domain model\" is a more precise term than \"business logic layer\" for the central layer of a three-layered architecture. It defines the \"domain\" as the problem space being addressed and the \"model\" as a representation of that space. The domain model is essentially the business owners' mental map of their business, expressed through their specific jargon and processes.\n",
    "\n",
    "**Useful Points:**\n",
    "\n",
    "* **Domain Model vs. Business Logic Layer:**\n",
    "    * The domain model is a more accurate and descriptive term, rooted in DDD principles.\n",
    "    * It emphasizes the representation of the business's core concepts and rules.\n",
    "* **Definition of Domain:**\n",
    "    * The domain is the specific problem area that a software system aims to solve (e.g., purchasing, logistics).\n",
    "    * It represents the real-world activities and processes being automated.\n",
    "* **Definition of Model:**\n",
    "    * A model is a simplified representation of a complex process or phenomenon.\n",
    "    * It captures essential properties and relationships within the domain.\n",
    "    * Models are not always perfect, and are only valid within their domain of application.\n",
    "* **Domain Model as a Mental Map:**\n",
    "    * Business owners possess mental models of their operations, which are reflected in their language and actions.\n",
    "    * This mental map is the foundation of the domain model in software development.\n",
    "* **The Importance of Business Jargon:**\n",
    "    * Jargon naturally arises within a domain, indicating a shared understanding of complex processes.\n",
    "    * Understanding and incorporating this jargon is crucial for accurately modeling the domain.\n",
    "* **Emergent Language and Understanding:**\n",
    "    * The example of the space ship, shows how through interaction with a complex system, that a group of people will naturally create a shared language to describe that system.\n",
    "    * This natural creation of a language, is the same way that business jargon is created.\n"
   ]
  },
  {
   "cell_type": "markdown",
   "id": "98fe34b1-f7e9-4e3c-8094-42412810a148",
   "metadata": {},
   "source": [
    "### An Example\n",
    "\n",
    "![Image](https://www.cosmicpython.com/book/images/apwp_0103.png)"
   ]
  },
  {
   "cell_type": "code",
   "execution_count": 12,
   "id": "00e46c9a-6787-4ba9-accf-375ba6209117",
   "metadata": {},
   "outputs": [],
   "source": [
    "def make_batch_and_line(sku, batch_qty, line_qty):\n",
    "    return (\n",
    "        Batch(\"batch-001\", sku, batch_qty, eta=date.today()),\n",
    "        OrderLine(\"order-123\", sku, line_qty),\n",
    "    )\n",
    "\n",
    "def test_allocating_to_a_batch_reduces_the_available_quantity():\n",
    "    batch = Batch(\"batch-001\", \"SMALL-TABLE\", qty=20, eta=date.today())\n",
    "    line = OrderLine(\"order-ref\", \"SMALL-TABLE\", 2)\n",
    "\n",
    "    batch.allocate(line)\n",
    "\n",
    "    assert batch.available_quantity == 18\n",
    "\n",
    "def test_can_allocate_if_available_greater_than_required():\n",
    "    large_batch, small_line = make_batch_and_line(\"ELEGANT-LAMP\", 20, 2)\n",
    "    assert large_batch.can_allocate(small_line)\n",
    "\n",
    "def test_cannot_allocate_if_available_smaller_than_required():\n",
    "    small_batch, large_line = make_batch_and_line(\"ELEGANT-LAMP\", 2, 20)\n",
    "    assert small_batch.can_allocate(large_line) is False\n",
    "\n",
    "def test_can_allocate_if_available_equal_to_required():\n",
    "    batch, line = make_batch_and_line(\"ELEGANT-LAMP\", 2, 2)\n",
    "    assert batch.can_allocate(line)\n",
    "\n",
    "def test_cannot_allocate_if_skus_do_not_match():\n",
    "    batch = Batch(\"batch-001\", \"UNCOMFORTABLE-CHAIR\", 100, eta=None)\n",
    "    different_sku_line = OrderLine(\"order-123\", \"EXPENSIVE-TOASTER\", 10)\n",
    "    assert batch.can_allocate(different_sku_line) is False\n",
    "\n",
    "def test_allocation_is_idempotent():\n",
    "    batch, line = make_batch_and_line(\"ANGULAR-DESK\", 20, 2)\n",
    "    batch.allocate(line)\n",
    "    batch.allocate(line)\n",
    "    assert batch.available_quantity == 18"
   ]
  },
  {
   "cell_type": "code",
   "execution_count": 5,
   "id": "98e6774b-6538-49a7-a362-c0ddffb6fb0b",
   "metadata": {},
   "outputs": [],
   "source": [
    "from dataclasses import dataclass\n",
    "\n",
    "@dataclass(frozen=True)\n",
    "class OrderLine:\n",
    "    orderid: str\n",
    "    sku: str\n",
    "    qty: int"
   ]
  },
  {
   "cell_type": "code",
   "execution_count": 19,
   "id": "c03e0e3b-e85a-4300-83f2-35f99e3278ed",
   "metadata": {},
   "outputs": [],
   "source": [
    "from typing import Optional\n",
    "from datetime import date\n",
    "\n",
    "\n",
    "class Batch:\n",
    "    def __init__(self, ref: str, sku: str, qty: int, eta: Optional[date]):\n",
    "        self.reference = ref\n",
    "        self.sku = sku\n",
    "        self.eta = eta\n",
    "        self._purchased_quantity = qty\n",
    "        self._allocations = set()  # type: Set[OrderLine]\n",
    "\n",
    "    def allocate(self, line: OrderLine):\n",
    "        if self.can_allocate(line):\n",
    "            self._allocations.add(line)\n",
    "\n",
    "    def deallocate(self, line: OrderLine):\n",
    "        if line in self._allocations:\n",
    "            self._allocations.remove(line)\n",
    "\n",
    "    @property\n",
    "    def allocated_quantity(self) -> int:\n",
    "        return sum(line.qty for line in self._allocations)\n",
    "\n",
    "    @property\n",
    "    def available_quantity(self) -> int:\n",
    "        return self._purchased_quantity - self.allocated_quantity\n",
    "\n",
    "    def can_allocate(self, line: OrderLine) -> bool:\n",
    "        return self.sku == line.sku and self.available_quantity >= line.qty\n",
    "\n",
    "    def __eq__(self, other):\n",
    "        if not isinstance(other, Batch):\n",
    "            return False\n",
    "        return other.reference == self.reference\n",
    "\n",
    "    def __hash__(self):\n",
    "        return hash(self.reference)\n",
    "\n",
    "    def __gt__(self, other):\n",
    "        if self.eta is None:\n",
    "            return False\n",
    "        if other.eta is None:\n",
    "            return True\n",
    "        return self.eta > other.eta"
   ]
  },
  {
   "cell_type": "markdown",
   "id": "808c1b4f-cbd8-44e5-aa70-ef44c03e9b93",
   "metadata": {},
   "source": [
    "### Some Points\n",
    "\n",
    "- Whenever we have a business concept that has data but no identity, we often choose to represent it using the **Value Object** pattern. A value object is any domain object that is uniquely identified by the data it holds; we usually make them immutable:\n",
    "```python\n",
    "@dataclass(frozen=True)\n",
    "class OrderLine:\n",
    "    orderid: OrderReference\n",
    "    sku: ProductReference\n",
    "    qty: Quantity\n",
    "```\n",
    "\n",
    "- We use the term **entity** to describe a domain object that has long-lived identity. In our example, a batch is an entity because it has a reference that uniquely identifies it."
   ]
  },
  {
   "cell_type": "markdown",
   "id": "a3460e5d-efac-452b-bb8b-f1869765b7ae",
   "metadata": {},
   "source": [
    "### Not Everything Has to Be an Object\n",
    "\n",
    "A thing that allocates an order line, given a set of batches, sounds a lot like a function, and we can take advantage of the fact that Python is a multiparadigm language and just make it a function.\n"
   ]
  },
  {
   "cell_type": "code",
   "execution_count": 16,
   "id": "488e9ef6-131a-43aa-8012-fe63e7d61534",
   "metadata": {},
   "outputs": [],
   "source": [
    "def test_prefers_current_stock_batches_to_shipments():\n",
    "    in_stock_batch = Batch(\"in-stock-batch\", \"RETRO-CLOCK\", 100, eta=None)\n",
    "    shipment_batch = Batch(\"shipment-batch\", \"RETRO-CLOCK\", 100, eta=tomorrow)\n",
    "    line = OrderLine(\"oref\", \"RETRO-CLOCK\", 10)\n",
    "\n",
    "    allocate(line, [in_stock_batch, shipment_batch])\n",
    "\n",
    "    assert in_stock_batch.available_quantity == 90\n",
    "    assert shipment_batch.available_quantity == 100\n",
    "\n",
    "\n",
    "def test_prefers_earlier_batches():\n",
    "    earliest = Batch(\"speedy-batch\", \"MINIMALIST-SPOON\", 100, eta=today)\n",
    "    medium = Batch(\"normal-batch\", \"MINIMALIST-SPOON\", 100, eta=tomorrow)\n",
    "    latest = Batch(\"slow-batch\", \"MINIMALIST-SPOON\", 100, eta=later)\n",
    "    line = OrderLine(\"order1\", \"MINIMALIST-SPOON\", 10)\n",
    "\n",
    "    allocate(line, [medium, earliest, latest])\n",
    "\n",
    "    assert earliest.available_quantity == 90\n",
    "    assert medium.available_quantity == 100\n",
    "    assert latest.available_quantity == 100\n",
    "\n",
    "\n",
    "def test_returns_allocated_batch_ref():\n",
    "    in_stock_batch = Batch(\"in-stock-batch-ref\", \"HIGHBROW-POSTER\", 100, eta=None)\n",
    "    shipment_batch = Batch(\"shipment-batch-ref\", \"HIGHBROW-POSTER\", 100, eta=tomorrow)\n",
    "    line = OrderLine(\"oref\", \"HIGHBROW-POSTER\", 10)\n",
    "    allocation = allocate(line, [in_stock_batch, shipment_batch])\n",
    "    assert allocation == in_stock_batch.reference"
   ]
  },
  {
   "cell_type": "code",
   "execution_count": 18,
   "id": "81e1957d-d771-4ac8-af27-b8d16fc0866d",
   "metadata": {},
   "outputs": [],
   "source": [
    "def allocate(line: OrderLine, batches: list[Batch]) -> str:\n",
    "    batch = next(b for b in sorted(batches) if b.can_allocate(line))\n",
    "    batch.allocate(line)\n",
    "    return batch.reference"
   ]
  },
  {
   "cell_type": "markdown",
   "id": "c35bfdd5-32de-4f75-ab7a-4d1c882bb21a",
   "metadata": {},
   "source": [
    "### Exceptions Can Express Domain Concepts Too\n",
    "\n",
    "exceptions can be used to express domain concepts too. In our conversations with domain experts, we’ve learned about the possibility that an order cannot be allocated because we are out of stock, and we can capture that by using a domain exception."
   ]
  },
  {
   "cell_type": "code",
   "execution_count": 22,
   "id": "248a4096-f0ea-456b-84d6-c0dba823a221",
   "metadata": {},
   "outputs": [],
   "source": [
    "class OutOfStock(Exception):\n",
    "    pass"
   ]
  },
  {
   "cell_type": "code",
   "execution_count": 23,
   "id": "9d2303fe-f189-4c49-8475-cda9bc06212f",
   "metadata": {},
   "outputs": [],
   "source": [
    "import pytest\n",
    "\n",
    "def test_raises_out_of_stock_exception_if_cannot_allocate():\n",
    "    batch = Batch(\"batch1\", \"SMALL-FORK\", 10, eta=today)\n",
    "    allocate(OrderLine(\"order1\", \"SMALL-FORK\", 10), [batch])\n",
    "\n",
    "    with pytest.raises(OutOfStock, match=\"SMALL-FORK\"):\n",
    "        allocate(OrderLine(\"order2\", \"SMALL-FORK\", 1), [batch])"
   ]
  },
  {
   "cell_type": "code",
   "execution_count": 26,
   "id": "e32e52ed-2762-49a0-9e8e-5a8de24692ff",
   "metadata": {},
   "outputs": [],
   "source": [
    "def allocate(line: OrderLine, batches: list[Batch]) -> str:\n",
    "    try:\n",
    "        batch = next(b for b in sorted(batches) if b.can_allocate(line))\n",
    "        batch.allocate(line)\n",
    "        return batch.reference\n",
    "    except StopIteration:\n",
    "        raise OutOfStock()"
   ]
  },
  {
   "attachments": {},
   "cell_type": "markdown",
   "id": "6a30a325-2fdc-471f-b4ca-3279afb4c7ae",
   "metadata": {},
   "source": [
    "<img src=\"https://www.cosmicpython.com/book/images/apwp_0104.png\" width=\"500\" height=\"300\" alt=\"Image description\">"
   ]
  },
  {
   "cell_type": "markdown",
   "id": "c08ed35e-1d43-4daf-9dad-8c64b4d901ca",
   "metadata": {},
   "source": [
    "### Shapes\n",
    "- **Square**: An **Entity**\n",
    "- **Circle**: A **Value Object**\n",
    "- **Trapezoid**: A **Service**"
   ]
  }
 ],
 "metadata": {
  "kernelspec": {
   "display_name": "Python 3 (ipykernel)",
   "language": "python",
   "name": "python3"
  },
  "language_info": {
   "codemirror_mode": {
    "name": "ipython",
    "version": 3
   },
   "file_extension": ".py",
   "mimetype": "text/x-python",
   "name": "python",
   "nbconvert_exporter": "python",
   "pygments_lexer": "ipython3",
   "version": "3.12.3"
  }
 },
 "nbformat": 4,
 "nbformat_minor": 5
}

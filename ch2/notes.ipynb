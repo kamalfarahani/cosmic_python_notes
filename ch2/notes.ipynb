{
 "cells": [
  {
   "attachments": {},
   "cell_type": "markdown",
   "id": "1a743001-2d43-4ce2-b4a2-cc7e0de39e84",
   "metadata": {},
   "source": [
    "# Repository Pattern\n",
    "\n",
    "The text introduces the Repository pattern as a solution to decouple the core domain logic (model layer) from the infrastructure layer, specifically the data storage (database). This decoupling is achieved by adhering to the dependency inversion principle.\n",
    "\n",
    "The Repository pattern acts as an abstraction layer, hiding the complexities of data access from the domain model. It provides a simplified interface for interacting with the data, allowing the domain to focus on business logic without worrying about the specifics of database operations.\n",
    "\n",
    "**Key Points:**\n",
    "\n",
    "* **Decoupling:**\n",
    "    * The primary purpose of the Repository pattern is to separate the domain model from the data access layer.\n",
    "    * This separation makes the system more flexible and maintainable, as changes to the database implementation do not directly affect the domain logic.\n",
    "* **Abstraction:**\n",
    "    * The Repository pattern provides an abstract interface for data access, shielding the domain from the underlying database details.\n",
    "    * This abstraction simplifies the domain's interaction with the data, making it easier to understand and work with.\n",
    "* **Testability:**\n",
    "    * By hiding the database, the Repository pattern makes the domain model easier to test.\n",
    "    * Mock or in-memory repositories can be used during testing, eliminating the need for a real database.\n",
    "* **Mediator:**\n",
    "    * The repository acts as a mediator between the domain model and the database.\n",
    "* **Simplifying Abstraction:**\n",
    "    * It simplifies the data access logic, making it easier to use.\n",
    "\n",
    "In essence, the Repository pattern creates a layer of indirection that isolates the domain from the specifics of data storage, promoting cleaner code and improved testability.\n",
    "\n",
    "\n",
    "<img src=\"https://www.cosmicpython.com/book/images/apwp_0201.png\" width=\"800\" height=\"500\" alt=\"Image description\">\n",
    "\n",
    "\n",
    "> The Repository pattern is an abstraction over persistent storage. It hides the boring details of data access by pretending that all of our data is in memory.\n",
    "\n"
   ]
  },
  {
   "cell_type": "markdown",
   "id": "6fe3c86d-52a9-4932-ba57-2ac6a4f7dcee",
   "metadata": {},
   "source": [
    "### Dependency Inversion\n",
    "\n",
    "The Dependency Inversion Principle (DIP) is a specific methodology in object-oriented design that advocates for loosely coupled software modules. It fundamentally alters the conventional dependency relationships found in traditional programming. Instead of high-level, policy-setting modules depending directly on low-level, dependency modules, the DIP dictates that both should depend on abstractions. Furthermore, the principle asserts that abstractions should not depend on details, and conversely, details (concrete implementations) should depend on abstractions. This inversion of the conventional dependency flow renders high-level modules independent of the low-level module implementation details. The core idea is to design the interaction between high-level and low-level modules as an abstract interaction.   \n",
    "\n",
    "\n",
    "\n",
    "This is a normal-layered architecture:\n",
    "\n",
    "<img src=\"https://www.cosmicpython.com/book/images/apwp_0202.png\" width=\"700\" height=\"500\" alt=\"Image description\">\n",
    "\n",
    "\n",
    "With applying dependency inversion, we make our database layer to depend on business layer:\n",
    "\n",
    "<img src=\"https://www.cosmicpython.com/book/images/apwp_0203.png\" width=\"700\" height=\"500\" alt=\"Image description\">"
   ]
  },
  {
   "cell_type": "markdown",
   "id": "cb293f17-43bd-4308-8e8b-8f28266ac084",
   "metadata": {},
   "source": [
    "### The Repository in the Abstract\n",
    "\n",
    "\n",
    "The simplest repository has just two methods: `add()` to put a new item in the repository, and `get()` to return a previously added item.\n",
    "\n",
    "```python\n",
    "class AbstractRepository(abc.ABC):\n",
    "    @abc.abstractmethod  #(1)\n",
    "    def add(self, batch: model.Batch):\n",
    "        raise NotImplementedError  #(2)\n",
    "\n",
    "    @abc.abstractmethod\n",
    "    def get(self, reference) -> model.Batch:\n",
    "        raise NotImplementedError\n",
    "```"
   ]
  }
 ],
 "metadata": {
  "kernelspec": {
   "display_name": "Python 3 (ipykernel)",
   "language": "python",
   "name": "python3"
  },
  "language_info": {
   "codemirror_mode": {
    "name": "ipython",
    "version": 3
   },
   "file_extension": ".py",
   "mimetype": "text/x-python",
   "name": "python",
   "nbconvert_exporter": "python",
   "pygments_lexer": "ipython3",
   "version": "3.12.3"
  }
 },
 "nbformat": 4,
 "nbformat_minor": 5
}

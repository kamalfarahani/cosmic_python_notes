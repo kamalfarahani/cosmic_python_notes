{
 "cells": [
  {
   "cell_type": "markdown",
   "id": "f40bd8a4-30e7-4824-8473-3c4893e49930",
   "metadata": {},
   "source": [
    "# A Brief Interlude: On Coupling and Abstractions\n",
    "\n",
    "This text emphasizes the importance of using simple abstractions to manage complexity in software development. While local coupling between code components with high cohesion is beneficial for functionality, excessive global coupling, especially between elements lacking cohesion (as seen in the \"Ball of Mud\" antipattern), leads to increased risk and cost of making changes, potentially hindering development. The key takeaway is that reducing coupling through abstraction is crucial for maintaining manageable and adaptable large-scale systems.\n",
    "\n",
    "Here are the key points extracted from the text:\n",
    "\n",
    "* **Abstraction hides messy details:** Simple abstractions are a key technique in managing complexity.\n",
    "* **Coupling:** Inability to change one component without breaking another indicates coupling.\n",
    "* **Local coupling and cohesion:** Locally, coupling with high cohesion (components working well together) is positive.\n",
    "* **Global coupling is problematic:** Globally, excessive coupling increases the risk and cost of changes.\n",
    "* **Ball of Mud pattern:** Unmanaged coupling between non-cohesive elements in growing systems leads to a state where changes become difficult.\n",
    "* **Reducing coupling through abstraction:** Abstraction is presented as a solution to decrease the degree of coupling within a system.\n",
    "\n",
    "A a system with lots of coupling:\n",
    "\n",
    "<img src=\"https://www.cosmicpython.com/book/images/apwp_0301.png\" alt=\"Lots of coupling\" width=500>\n",
    "\n",
    "Using abstractions to reduce coupling:\n",
    "\n",
    "<img src=\"https://www.cosmicpython.com/book/images/apwp_0302.png\" alt=\"Lots of coupling\" width=500>"
   ]
  },
  {
   "cell_type": "code",
   "execution_count": null,
   "id": "16b9fa57-0f1f-46f3-91a9-a8fc53a9c77d",
   "metadata": {},
   "outputs": [],
   "source": []
  },
  {
   "cell_type": "code",
   "execution_count": null,
   "id": "a9b9ac36-8757-495d-9f28-97757530e524",
   "metadata": {},
   "outputs": [],
   "source": []
  }
 ],
 "metadata": {
  "kernelspec": {
   "display_name": "Python 3 (ipykernel)",
   "language": "python",
   "name": "python3"
  },
  "language_info": {
   "codemirror_mode": {
    "name": "ipython",
    "version": 3
   },
   "file_extension": ".py",
   "mimetype": "text/x-python",
   "name": "python",
   "nbconvert_exporter": "python",
   "pygments_lexer": "ipython3",
   "version": "3.12.3"
  }
 },
 "nbformat": 4,
 "nbformat_minor": 5
}
